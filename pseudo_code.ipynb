{
 "cells": [
  {
   "cell_type": "code",
   "execution_count": null,
   "metadata": {},
   "outputs": [],
   "source": [
    "class Plateau : #création du plateau\n",
    "\n",
    "    input : str et la list \n",
    "\n",
    "    def __init__(self, plateau : list(pion)),structure globale du tableau : en str :\n",
    "        \n",
    "        pass\n",
    "\n",
    "    def tranformation du tableau à afficher  (self) : \n",
    "        input : str et la list pion\n",
    "        boucle de transformation des case du tableau à afficher \n",
    "        output : str du tableau -> appel de la méthode affichage \n",
    "\n",
    "    def affichage (self) : #affichage\n",
    "        input : str du tableau\n",
    "        output : print du tableau "
   ]
  },
  {
   "cell_type": "code",
   "execution_count": null,
   "metadata": {},
   "outputs": [],
   "source": [
    "class Pion : #création du pion\n",
    "    def __init__(self, couleur: str (\"x\" ou \"o\" ou \" \"), coordonnes : tuple (x,y), position : str (a1, a2...)) :\n",
    "        \n",
    "        pass"
   ]
  },
  {
   "cell_type": "code",
   "execution_count": null,
   "metadata": {},
   "outputs": [],
   "source": [
    "class Joueur : #par défaut le joueur blanc commence\n",
    "    def __init__(self, nom_joueur : str, a_joué_au_dernier_tour : bool, actif : bool) : \n",
    "        "
   ]
  },
  {
   "cell_type": "code",
   "execution_count": null,
   "metadata": {},
   "outputs": [],
   "source": [
    "class Engine : \n",
    "\n",
    "    def start : #lancement du jeu\n",
    "        appel initialisation_plateau_1_er_tour  #plateau initialisé et affiché dans le terminal\n",
    "        appel class joueur #création des 2 joueurs\n",
    "        #lancement du premier tour de jeu \n",
    "    \n",
    "\n",
    "    def initialisation_plateau_1_er_tour : #affichage des 4 pions de base\n",
    "        #création de 4 pions dont 2 blancs et 2 noirs\n",
    "        #création de 60 pions ni blanc ni noir\n",
    "        # = > création de la list_pion avec les 64 pions : 2 blancs et 2 noirs + 60 vides de couleurs mais qui ont une coordonnée et une position\n",
    "        appel class plateau pour l'affichage\n",
    "\n",
    "Début de la boucle : \n",
    "\n",
    "    def verif_coup_possible (self, input : list_pion, tableau) : \n",
    "        input : list_pion\n",
    "        output : list_coup_possible\n",
    "\n",
    "    def input_joueur (self) :\n",
    "        input : nom_joueur = joueur_blanc, joueur_noir\n",
    "        output : str (\"jjj\") print\n",
    "\n",
    "        else : sortie partie avec Q\n",
    "\n",
    "    def verif_coup_joueur :\n",
    "        input : input du joueur :str et list_coup_possible\n",
    "        output : bool #(ok ou non que le joueur joue)\n",
    "\n",
    "    def maj_pion_post_input_joueur (self) : \n",
    "        input : input_joueur\n",
    "        output : maj de l'attribut couleur du pion\n",
    "\n",
    "    def switch joueur : \n",
    "        input : joueur_actif\n",
    "        output : autre_joueur_actif\n",
    "    \n",
    "    def trouver_pion_a_retourner : \n",
    "        input : list_pion \n",
    "        output : list_de_pion_a_retourner \n",
    "    \n",
    "    def retourner_pion :\n",
    "        input : list_de_pion_a_retourner\n",
    "        output : list_pion MAJ\n",
    "    \n",
    "Sortie de boucle : \n",
    "    def fin_de_partie : \n",
    "        input : list_pion \n",
    "        output : print nb_noir et nb_blanc ; print gagnant \n",
    "\n",
    "     \n",
    "        \n",
    "boucle\n",
    "    \n"
   ]
  }
 ],
 "metadata": {
  "language_info": {
   "name": "python"
  }
 },
 "nbformat": 4,
 "nbformat_minor": 2
}
